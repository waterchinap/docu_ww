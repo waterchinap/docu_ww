{
 "cells": [
  {
   "cell_type": "code",
   "execution_count": 1,
   "metadata": {},
   "outputs": [],
   "source": [
    "import pandas as pd"
   ]
  },
  {
   "cell_type": "code",
   "execution_count": 2,
   "metadata": {},
   "outputs": [],
   "source": [
    "def extract_secondary_headings(markdown_file):\n",
    "    secondary_headings = []\n",
    "    \n",
    "    with open(markdown_file, 'r', encoding='utf-8') as file:\n",
    "        for line in file:\n",
    "            if line.startswith('## '):\n",
    "                line = line.strip()\n",
    "                line = line.rsplit(' ', 1)[-1]\n",
    "                secondary_headings.append(line)\n",
    "    \n",
    "    return secondary_headings\n",
    "\n",
    "def check_missing_date(mydate):\n",
    "    daterange = pd.date_range(start='1939-01-01', end='1945-12-31',freq='D')\n",
    "    dfr = pd.DataFrame(daterange, columns=['dr'])\n",
    "    dateset = set(dfr['dr'].dt.date.apply(str))\n",
    "    return dateset - set(mydate)"
   ]
  },
  {
   "cell_type": "code",
   "execution_count": 5,
   "metadata": {},
   "outputs": [],
   "source": [
    "mydate = extract_secondary_headings('ww2cn.md')"
   ]
  },
  {
   "cell_type": "code",
   "execution_count": 6,
   "metadata": {},
   "outputs": [
    {
     "data": {
      "text/plain": [
       "set()"
      ]
     },
     "execution_count": 6,
     "metadata": {},
     "output_type": "execute_result"
    }
   ],
   "source": [
    "len(check_missing_date(mydate))\n",
    "check_missing_date(mydate)"
   ]
  },
  {
   "cell_type": "code",
   "execution_count": 11,
   "metadata": {},
   "outputs": [],
   "source": [
    "import re\n",
    "from pathlib import Path\n",
    "\n",
    "def split_markdown_file(markdown_file, folder):\n",
    "    dir = Path(folder)\n",
    "    dir.mkdir(exist_ok=True)\n",
    "    with open(markdown_file, 'r', encoding='utf-8') as file:\n",
    "        content = file.read()\n",
    "\n",
    "    # 删除所有一级标签\n",
    "    content = re.sub(r'^#\\s.*$', '', content, flags=re.MULTILINE)\n",
    "\n",
    "    # 以二级标签为特征分割文件\n",
    "    sections = re.split(r'^##\\s', content, flags=re.MULTILINE)\n",
    "\n",
    "    # 去掉第一个空元素\n",
    "    if sections[0].strip() == '':\n",
    "        sections = sections[1:]\n",
    "\n",
    "    # 保存每个分割后的部分为单独的文件\n",
    "    for section in sections:\n",
    "        # 提取二级标签内容作为文件名\n",
    "        heading = re.match(r'(.*?)\\n', section)\n",
    "        if heading:\n",
    "            file_name = heading.group(1).strip().replace(' ', '_') + '.md'\n",
    "            section = '# ' + section\n",
    "            # 将二级标题提升为一级标题，三级标题提升为二级标题\n",
    "            section = re.sub(r'^##\\s', '# ', section, flags=re.MULTILINE)\n",
    "            section = re.sub(r'^###\\s', '## ', section, flags=re.MULTILINE)\n",
    "\n",
    "            with open(dir/file_name, 'w', encoding='utf-8') as output_file:\n",
    "                output_file.write(section)\n",
    "            # print(f\"Saved section to {file_name}\")\n"
   ]
  },
  {
   "cell_type": "code",
   "execution_count": 12,
   "metadata": {},
   "outputs": [],
   "source": [
    "split_markdown_file('ww2cn.md', 'ww2cnbyday')\n"
   ]
  },
  {
   "cell_type": "code",
   "execution_count": 12,
   "metadata": {},
   "outputs": [],
   "source": [
    "import json\n",
    "from datetime import datetime, timedelta\n",
    "\n",
    "def generate_date_json(file_path, events_file_path):\n",
    "    start_date = datetime(1939, 1, 1)\n",
    "    end_date = datetime(1945, 12, 31)\n",
    "    ref_date = datetime(1939, 9, 1)\n",
    "    date_json = {}\n",
    "\n",
    "    # 读取 events.json 文件\n",
    "    with open(events_file_path, 'r', encoding='utf-8') as events_file:\n",
    "        events_data = json.load(events_file)\n",
    "        events = events_data.get('events', [])\n",
    "\n",
    "    current_date = start_date\n",
    "    while current_date <= end_date:\n",
    "        year = current_date.year\n",
    "        month = current_date.strftime('%m')\n",
    "        day = current_date.strftime('%d')\n",
    "        days_to = (current_date - ref_date).days\n",
    "        date_str = current_date.strftime('%Y-%m-%d')\n",
    "\n",
    "        if year not in date_json:\n",
    "            date_json[year] = {}\n",
    "        if month not in date_json[year]:\n",
    "            date_json[year][month] = []\n",
    "\n",
    "        # 查找当前日期的事件\n",
    "        event_info = next((event for event in events if event['date'] == date_str), None)\n",
    "        if event_info:\n",
    "            date_json[year][month].append({\n",
    "                'date': date_str,\n",
    "                'days_to': days_to,\n",
    "                'event': event_info['event']\n",
    "            })\n",
    "        else:\n",
    "            date_json[year][month].append({\n",
    "                'date': date_str,\n",
    "                'days_to': days_to\n",
    "            })\n",
    "\n",
    "        current_date += timedelta(days=1)\n",
    "\n",
    "    with open(file_path, 'w', encoding='utf-8') as file:\n",
    "        json.dump(date_json, file, ensure_ascii=False, indent=4)"
   ]
  },
  {
   "cell_type": "code",
   "execution_count": 13,
   "metadata": {},
   "outputs": [],
   "source": [
    "generate_date_json('mydate.json', './static/events.json')"
   ]
  },
  {
   "cell_type": "code",
   "execution_count": null,
   "metadata": {},
   "outputs": [],
   "source": []
  }
 ],
 "metadata": {
  "kernelspec": {
   "display_name": ".venv",
   "language": "python",
   "name": "python3"
  },
  "language_info": {
   "codemirror_mode": {
    "name": "ipython",
    "version": 3
   },
   "file_extension": ".py",
   "mimetype": "text/x-python",
   "name": "python",
   "nbconvert_exporter": "python",
   "pygments_lexer": "ipython3",
   "version": "3.12.3"
  }
 },
 "nbformat": 4,
 "nbformat_minor": 2
}
